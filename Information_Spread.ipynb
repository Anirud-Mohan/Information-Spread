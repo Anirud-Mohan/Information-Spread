{
 "cells": [
  {
   "cell_type": "code",
   "execution_count": null,
   "metadata": {
    "colab": {
     "base_uri": "https://localhost:8080/"
    },
    "id": "EWs_U0xq0CgY",
    "outputId": "01449b2e-437f-4de7-d672-f9a669a2d53f"
   },
   "outputs": [
    {
     "name": "stdout",
     "output_type": "stream",
     "text": [
      "Sat May 10 16:14:24 2025       \n",
      "+-----------------------------------------------------------------------------------------+\n",
      "| NVIDIA-SMI 550.54.15              Driver Version: 550.54.15      CUDA Version: 12.4     |\n",
      "|-----------------------------------------+------------------------+----------------------+\n",
      "| GPU  Name                 Persistence-M | Bus-Id          Disp.A | Volatile Uncorr. ECC |\n",
      "| Fan  Temp   Perf          Pwr:Usage/Cap |           Memory-Usage | GPU-Util  Compute M. |\n",
      "|                                         |                        |               MIG M. |\n",
      "|=========================================+========================+======================|\n",
      "|   0  Tesla T4                       Off |   00000000:00:04.0 Off |                    0 |\n",
      "| N/A   40C    P8              9W /   70W |       0MiB /  15360MiB |      0%      Default |\n",
      "|                                         |                        |                  N/A |\n",
      "+-----------------------------------------+------------------------+----------------------+\n",
      "                                                                                         \n",
      "+-----------------------------------------------------------------------------------------+\n",
      "| Processes:                                                                              |\n",
      "|  GPU   GI   CI        PID   Type   Process name                              GPU Memory |\n",
      "|        ID   ID                                                               Usage      |\n",
      "|=========================================================================================|\n",
      "|  No running processes found                                                             |\n",
      "+-----------------------------------------------------------------------------------------+\n"
     ]
    }
   ],
   "source": [
    "# GPU-Accelerated Information Spread on Twitter Ego Network\n",
    "\n",
    "This notebook demonstrates GPU-accelerated network analysis and information spread simulation using RAPIDS cuGraph and Graphistry. It is designed for reproducibility on any compatible environment (e.g., RAPIDS Docker, Colab, or local GPU setup).\n",
    "\n",
    "## Steps:\n",
    "- Environment setup (install dependencies)\n",
    "- Load and preprocess the Twitter Ego Network dataset\n",
    "- Analyze network metrics (nodes, edges, degree, components)\n",
    "- Visualize the network with Graphistry\n",
    "- Simulate information spread using different seeding strategies\n",
    "- Compare and plot results\n",
    "\n",
    "### Requirements\n",
    "- NVIDIA GPU with CUDA support\n",
    "- Python 3.8+\n",
    "- RAPIDS cuGraph, cuDF, Graphistry, pandas, seaborn, matplotlib\n",
    "\n",
    "----\n",
    "\n",
    "!nvidia-smi"
   ]
  },
  {
   "cell_type": "code",
   "execution_count": null,
   "metadata": {
    "colab": {
     "base_uri": "https://localhost:8080/"
    },
    "id": "InI5M5AA0I6L",
    "outputId": "763e38fa-1857-43f9-86f4-977b6c66e91e"
   },
   "outputs": [
    {
     "name": "stdout",
     "output_type": "stream",
     "text": [
      "fatal: destination path 'rapidsai-csp-utils' already exists and is not an empty directory.\n",
      "Installing RAPIDS remaining 25.04 libraries\n",
      "Using Python 3.11.12 environment at: /usr\n",
      "Audited 11 packages in 190ms\n",
      "\n",
      "        ***********************************************************************\n",
      "        The pip install of RAPIDS is complete.\n",
      "\n",
      "        Please do not run any further installation from the conda based installation methods, as they may cause issues!\n",
      "\n",
      "        Please ensure that you're pulling from the git repo to remain updated with the latest working install scripts.\n",
      "\n",
      "        Troubleshooting:\n",
      "            - If there is an installation failure, please check back on RAPIDSAI owned templates/notebooks to see how to update your personal files.\n",
      "            - If an installation failure persists when using the latest script, please make an issue on https://github.com/rapidsai-community/rapidsai-csp-utils\n",
      "        ***********************************************************************\n",
      "        \n"
     ]
    }
   ],
   "source": [
    "# Install required packages (run once per environment)\n",
    "!pip install --upgrade pip\n",
    "!pip install cudf-cu11 cugraph-cu11 cupy-cuda11x graphistry pandas matplotlib seaborn --extra-index-url=https://pypi.nvidia.com"
   ]
  },
  {
   "cell_type": "code",
   "execution_count": null,
   "metadata": {
    "colab": {
     "base_uri": "https://localhost:8080/"
    },
    "id": "3fKBwrAC4_V8",
    "outputId": "44f45a5f-5321-49ef-c524-eb0b724341f8"
   },
   "outputs": [
    {
     "name": "stdout",
     "output_type": "stream",
     "text": [
      "Requirement already satisfied: graphistry in /usr/local/lib/python3.11/dist-packages (0.36.1)\n",
      "Requirement already satisfied: numpy in /usr/local/lib/python3.11/dist-packages (from graphistry) (2.0.2)\n",
      "Requirement already satisfied: palettable>=3.0 in /usr/local/lib/python3.11/dist-packages (from graphistry) (3.3.3)\n",
      "Requirement already satisfied: pandas in /usr/local/lib/python3.11/dist-packages (from graphistry) (2.2.2)\n",
      "Requirement already satisfied: pyarrow>=0.15.0 in /usr/local/lib/python3.11/dist-packages (from graphistry) (18.1.0)\n",
      "Requirement already satisfied: requests in /usr/local/lib/python3.11/dist-packages (from graphistry) (2.32.3)\n",
      "Requirement already satisfied: squarify in /usr/local/lib/python3.11/dist-packages (from graphistry) (0.4.4)\n",
      "Requirement already satisfied: typing-extensions in /usr/local/lib/python3.11/dist-packages (from graphistry) (4.13.2)\n",
      "Requirement already satisfied: packaging>=20.1 in /usr/local/lib/python3.11/dist-packages (from graphistry) (24.2)\n",
      "Requirement already satisfied: setuptools in /usr/local/lib/python3.11/dist-packages (from graphistry) (75.2.0)\n",
      "Requirement already satisfied: python-dateutil>=2.8.2 in /usr/local/lib/python3.11/dist-packages (from pandas->graphistry) (2.9.0.post0)\n",
      "Requirement already satisfied: pytz>=2020.1 in /usr/local/lib/python3.11/dist-packages (from pandas->graphistry) (2025.2)\n",
      "Requirement already satisfied: tzdata>=2022.7 in /usr/local/lib/python3.11/dist-packages (from pandas->graphistry) (2025.2)\n",
      "Requirement already satisfied: charset-normalizer<4,>=2 in /usr/local/lib/python3.11/dist-packages (from requests->graphistry) (3.4.1)\n",
      "Requirement already satisfied: idna<4,>=2.5 in /usr/local/lib/python3.11/dist-packages (from requests->graphistry) (3.10)\n",
      "Requirement already satisfied: urllib3<3,>=1.21.1 in /usr/local/lib/python3.11/dist-packages (from requests->graphistry) (2.4.0)\n",
      "Requirement already satisfied: certifi>=2017.4.17 in /usr/local/lib/python3.11/dist-packages (from requests->graphistry) (2025.4.26)\n",
      "Requirement already satisfied: six>=1.5 in /usr/local/lib/python3.11/dist-packages (from python-dateutil>=2.8.2->pandas->graphistry) (1.17.0)\n"
     ]
    }
   ],
   "source": [
    "!pip install graphistry --upgrade"
   ]
  },
  {
   "cell_type": "code",
   "execution_count": null,
   "metadata": {
    "colab": {
     "base_uri": "https://localhost:8080/"
    },
    "id": "MeL3OMcZ5pnC",
    "outputId": "8c71b354-222d-4485-8058-f66308f61c28"
   },
   "outputs": [
    {
     "name": "stdout",
     "output_type": "stream",
     "text": [
      "0.36.1\n"
     ]
    }
   ],
   "source": [
    "# Graphistry setup (replace with your own API key)\n",
    "import graphistry\n",
    "import os\n",
    "\n",
    "# Set your Graphistry credentials here (do not commit secrets to GitHub)\n",
    "GRAPHISTRY_API_KEY = os.getenv('GRAPHISTRY_API_KEY', 'YOUR_API_KEY_HERE')\n",
    "graphistry.register(api=3, protocol=\"https\", server=\"hub.graphistry.com\", key=GRAPHISTRY_API_KEY)\n",
    "print(f\"Graphistry version: {graphistry.__version__}\")"
   ]
  },
  {
   "cell_type": "code",
   "execution_count": null,
   "metadata": {
    "colab": {
     "base_uri": "https://localhost:8080/"
    },
    "id": "rxXkphOxb2n3",
    "outputId": "599e1edb-a221-41f8-e785-713242138b21"
   },
   "outputs": [
    {
     "name": "stdout",
     "output_type": "stream",
     "text": [
      "Requirement already satisfied: setuptools in /usr/local/lib/python3.11/dist-packages (75.2.0)\n",
      "Requirement already satisfied: wheel in /usr/local/lib/python3.11/dist-packages (0.45.1)\n"
     ]
    }
   ],
   "source": []
  },
  {
   "cell_type": "code",
   "execution_count": null,
   "metadata": {
    "colab": {
     "base_uri": "https://localhost:8080/"
    },
    "id": "Hnr4DNtqas_p",
    "outputId": "0c79a3f2-3dbc-44fb-985a-05f435f78218"
   },
   "outputs": [
    {
     "name": "stdout",
     "output_type": "stream",
     "text": [
      "Collecting cugraph\n",
      "  Using cached cugraph-0.6.1.post1.tar.gz (1.1 kB)\n",
      "  Preparing metadata (setup.py) ... \u001b[?25l\u001b[?25hdone\n",
      "Building wheels for collected packages: cugraph\n",
      "  \u001b[1;31merror\u001b[0m: \u001b[1msubprocess-exited-with-error\u001b[0m\n",
      "  \n",
      "  \u001b[31m×\u001b[0m \u001b[32mpython setup.py bdist_wheel\u001b[0m did not run successfully.\n",
      "  \u001b[31m│\u001b[0m exit code: \u001b[1;36m1\u001b[0m\n",
      "  \u001b[31m╰─>\u001b[0m See above for output.\n",
      "  \n",
      "  \u001b[1;35mnote\u001b[0m: This error originates from a subprocess, and is likely not a problem with pip.\n",
      "  Building wheel for cugraph (setup.py) ... \u001b[?25lerror\n",
      "\u001b[31m  ERROR: Failed building wheel for cugraph\u001b[0m\u001b[31m\n",
      "\u001b[0m\u001b[?25h  Running setup.py clean for cugraph\n",
      "Failed to build cugraph\n",
      "\u001b[31mERROR: ERROR: Failed to build installable wheels for some pyproject.toml based projects (cugraph)\u001b[0m\u001b[31m\n",
      "\u001b[0m"
     ]
    }
   ],
   "source": [
    "!pip install cugraph"
   ]
  },
  {
   "cell_type": "code",
   "execution_count": null,
   "metadata": {
    "colab": {
     "base_uri": "https://localhost:8080/"
    },
    "id": "q8F1hLgFekbo",
    "outputId": "8a11a6ea-a81f-4aaa-e4c2-4d47272a78a1"
   },
   "outputs": [
    {
     "name": "stdout",
     "output_type": "stream",
     "text": [
      "\u001b[31mERROR: Could not find a version that satisfies the requirement cupy.complex (from versions: none)\u001b[0m\u001b[31m\n",
      "\u001b[0m\u001b[31mERROR: No matching distribution found for cupy.complex\u001b[0m\u001b[31m\n",
      "\u001b[0m"
     ]
    }
   ],
   "source": []
  },
  {
   "cell_type": "code",
   "execution_count": null,
   "metadata": {
    "colab": {
     "base_uri": "https://localhost:8080/",
     "height": 313
    },
    "id": "6XP2cUXseveS",
    "outputId": "5dc33a69-7fd0-4699-8c52-7319069137c7"
   },
   "outputs": [
    {
     "ename": "MessageError",
     "evalue": "Error: credential propagation was unsuccessful",
     "output_type": "error",
     "traceback": [
      "\u001b[0;31m---------------------------------------------------------------------------\u001b[0m",
      "\u001b[0;31mMessageError\u001b[0m                              Traceback (most recent call last)",
      "\u001b[0;32m<ipython-input-8-d5df0069828e>\u001b[0m in \u001b[0;36m<cell line: 0>\u001b[0;34m()\u001b[0m\n\u001b[1;32m      1\u001b[0m \u001b[0;32mfrom\u001b[0m \u001b[0mgoogle\u001b[0m\u001b[0;34m.\u001b[0m\u001b[0mcolab\u001b[0m \u001b[0;32mimport\u001b[0m \u001b[0mdrive\u001b[0m\u001b[0;34m\u001b[0m\u001b[0;34m\u001b[0m\u001b[0m\n\u001b[0;32m----> 2\u001b[0;31m \u001b[0mdrive\u001b[0m\u001b[0;34m.\u001b[0m\u001b[0mmount\u001b[0m\u001b[0;34m(\u001b[0m\u001b[0;34m'/content/drive'\u001b[0m\u001b[0;34m)\u001b[0m\u001b[0;34m\u001b[0m\u001b[0;34m\u001b[0m\u001b[0m\n\u001b[0m",
      "\u001b[0;32m/usr/local/lib/python3.11/dist-packages/google/colab/drive.py\u001b[0m in \u001b[0;36mmount\u001b[0;34m(mountpoint, force_remount, timeout_ms, readonly)\u001b[0m\n\u001b[1;32m     98\u001b[0m \u001b[0;32mdef\u001b[0m \u001b[0mmount\u001b[0m\u001b[0;34m(\u001b[0m\u001b[0mmountpoint\u001b[0m\u001b[0;34m,\u001b[0m \u001b[0mforce_remount\u001b[0m\u001b[0;34m=\u001b[0m\u001b[0;32mFalse\u001b[0m\u001b[0;34m,\u001b[0m \u001b[0mtimeout_ms\u001b[0m\u001b[0;34m=\u001b[0m\u001b[0;36m120000\u001b[0m\u001b[0;34m,\u001b[0m \u001b[0mreadonly\u001b[0m\u001b[0;34m=\u001b[0m\u001b[0;32mFalse\u001b[0m\u001b[0;34m)\u001b[0m\u001b[0;34m:\u001b[0m\u001b[0;34m\u001b[0m\u001b[0;34m\u001b[0m\u001b[0m\n\u001b[1;32m     99\u001b[0m   \u001b[0;34m\"\"\"Mount your Google Drive at the specified mountpoint path.\"\"\"\u001b[0m\u001b[0;34m\u001b[0m\u001b[0;34m\u001b[0m\u001b[0m\n\u001b[0;32m--> 100\u001b[0;31m   return _mount(\n\u001b[0m\u001b[1;32m    101\u001b[0m       \u001b[0mmountpoint\u001b[0m\u001b[0;34m,\u001b[0m\u001b[0;34m\u001b[0m\u001b[0;34m\u001b[0m\u001b[0m\n\u001b[1;32m    102\u001b[0m       \u001b[0mforce_remount\u001b[0m\u001b[0;34m=\u001b[0m\u001b[0mforce_remount\u001b[0m\u001b[0;34m,\u001b[0m\u001b[0;34m\u001b[0m\u001b[0;34m\u001b[0m\u001b[0m\n",
      "\u001b[0;32m/usr/local/lib/python3.11/dist-packages/google/colab/drive.py\u001b[0m in \u001b[0;36m_mount\u001b[0;34m(mountpoint, force_remount, timeout_ms, ephemeral, readonly)\u001b[0m\n\u001b[1;32m    135\u001b[0m   )\n\u001b[1;32m    136\u001b[0m   \u001b[0;32mif\u001b[0m \u001b[0mephemeral\u001b[0m\u001b[0;34m:\u001b[0m\u001b[0;34m\u001b[0m\u001b[0;34m\u001b[0m\u001b[0m\n\u001b[0;32m--> 137\u001b[0;31m     _message.blocking_request(\n\u001b[0m\u001b[1;32m    138\u001b[0m         \u001b[0;34m'request_auth'\u001b[0m\u001b[0;34m,\u001b[0m\u001b[0;34m\u001b[0m\u001b[0;34m\u001b[0m\u001b[0m\n\u001b[1;32m    139\u001b[0m         \u001b[0mrequest\u001b[0m\u001b[0;34m=\u001b[0m\u001b[0;34m{\u001b[0m\u001b[0;34m'authType'\u001b[0m\u001b[0;34m:\u001b[0m \u001b[0;34m'dfs_ephemeral'\u001b[0m\u001b[0;34m}\u001b[0m\u001b[0;34m,\u001b[0m\u001b[0;34m\u001b[0m\u001b[0;34m\u001b[0m\u001b[0m\n",
      "\u001b[0;32m/usr/local/lib/python3.11/dist-packages/google/colab/_message.py\u001b[0m in \u001b[0;36mblocking_request\u001b[0;34m(request_type, request, timeout_sec, parent)\u001b[0m\n\u001b[1;32m    174\u001b[0m       \u001b[0mrequest_type\u001b[0m\u001b[0;34m,\u001b[0m \u001b[0mrequest\u001b[0m\u001b[0;34m,\u001b[0m \u001b[0mparent\u001b[0m\u001b[0;34m=\u001b[0m\u001b[0mparent\u001b[0m\u001b[0;34m,\u001b[0m \u001b[0mexpect_reply\u001b[0m\u001b[0;34m=\u001b[0m\u001b[0;32mTrue\u001b[0m\u001b[0;34m\u001b[0m\u001b[0;34m\u001b[0m\u001b[0m\n\u001b[1;32m    175\u001b[0m   )\n\u001b[0;32m--> 176\u001b[0;31m   \u001b[0;32mreturn\u001b[0m \u001b[0mread_reply_from_input\u001b[0m\u001b[0;34m(\u001b[0m\u001b[0mrequest_id\u001b[0m\u001b[0;34m,\u001b[0m \u001b[0mtimeout_sec\u001b[0m\u001b[0;34m)\u001b[0m\u001b[0;34m\u001b[0m\u001b[0;34m\u001b[0m\u001b[0m\n\u001b[0m",
      "\u001b[0;32m/usr/local/lib/python3.11/dist-packages/google/colab/_message.py\u001b[0m in \u001b[0;36mread_reply_from_input\u001b[0;34m(message_id, timeout_sec)\u001b[0m\n\u001b[1;32m    101\u001b[0m     ):\n\u001b[1;32m    102\u001b[0m       \u001b[0;32mif\u001b[0m \u001b[0;34m'error'\u001b[0m \u001b[0;32min\u001b[0m \u001b[0mreply\u001b[0m\u001b[0;34m:\u001b[0m\u001b[0;34m\u001b[0m\u001b[0;34m\u001b[0m\u001b[0m\n\u001b[0;32m--> 103\u001b[0;31m         \u001b[0;32mraise\u001b[0m \u001b[0mMessageError\u001b[0m\u001b[0;34m(\u001b[0m\u001b[0mreply\u001b[0m\u001b[0;34m[\u001b[0m\u001b[0;34m'error'\u001b[0m\u001b[0;34m]\u001b[0m\u001b[0;34m)\u001b[0m\u001b[0;34m\u001b[0m\u001b[0;34m\u001b[0m\u001b[0m\n\u001b[0m\u001b[1;32m    104\u001b[0m       \u001b[0;32mreturn\u001b[0m \u001b[0mreply\u001b[0m\u001b[0;34m.\u001b[0m\u001b[0mget\u001b[0m\u001b[0;34m(\u001b[0m\u001b[0;34m'data'\u001b[0m\u001b[0;34m,\u001b[0m \u001b[0;32mNone\u001b[0m\u001b[0;34m)\u001b[0m\u001b[0;34m\u001b[0m\u001b[0;34m\u001b[0m\u001b[0m\n\u001b[1;32m    105\u001b[0m \u001b[0;34m\u001b[0m\u001b[0m\n",
      "\u001b[0;31mMessageError\u001b[0m: Error: credential propagation was unsuccessful"
     ]
    }
   ],
   "source": []
  },
  {
   "cell_type": "code",
   "execution_count": null,
   "metadata": {
    "colab": {
     "base_uri": "https://localhost:8080/"
    },
    "id": "sUwlzDgKjpyh",
    "outputId": "b9aa45f6-8ef3-4493-b168-a51ddba29c89"
   },
   "outputs": [
    {
     "name": "stdout",
     "output_type": "stream",
     "text": [
      "\r0% [Working]\r            \rGet:1 https://cloud.r-project.org/bin/linux/ubuntu jammy-cran40/ InRelease [3,632 B]\n",
      "Hit:2 https://developer.download.nvidia.com/compute/cuda/repos/ubuntu2204/x86_64  InRelease\n",
      "Get:3 https://r2u.stat.illinois.edu/ubuntu jammy InRelease [6,555 B]\n",
      "Get:4 http://security.ubuntu.com/ubuntu jammy-security InRelease [129 kB]\n",
      "Get:5 https://r2u.stat.illinois.edu/ubuntu jammy/main amd64 Packages [2,720 kB]\n",
      "Hit:6 http://archive.ubuntu.com/ubuntu jammy InRelease\n",
      "Get:7 http://archive.ubuntu.com/ubuntu jammy-updates InRelease [128 kB]\n",
      "Hit:8 https://ppa.launchpadcontent.net/deadsnakes/ppa/ubuntu jammy InRelease\n",
      "Get:9 https://r2u.stat.illinois.edu/ubuntu jammy/main all Packages [8,926 kB]\n",
      "Hit:10 https://ppa.launchpadcontent.net/graphics-drivers/ppa/ubuntu jammy InRelease\n",
      "Hit:11 https://ppa.launchpadcontent.net/ubuntugis/ppa/ubuntu jammy InRelease\n",
      "Get:12 http://security.ubuntu.com/ubuntu jammy-security/main amd64 Packages [2,901 kB]\n",
      "Get:13 http://archive.ubuntu.com/ubuntu jammy-backports InRelease [127 kB]\n",
      "Get:14 http://archive.ubuntu.com/ubuntu jammy-updates/main amd64 Packages [3,211 kB]\n",
      "Get:15 http://security.ubuntu.com/ubuntu jammy-security/universe amd64 Packages [1,245 kB]\n",
      "Get:16 http://archive.ubuntu.com/ubuntu jammy-updates/universe amd64 Packages [1,546 kB]\n",
      "Fetched 20.9 MB in 3s (6,648 kB/s)\n",
      "Reading package lists... Done\n",
      "W: Skipping acquire of configured file 'main/source/Sources' as repository 'https://r2u.stat.illinois.edu/ubuntu jammy InRelease' does not seem to provide it (sources.list entry misspelt?)\n",
      "Reading package lists... Done\n",
      "Building dependency tree... Done\n",
      "Reading state information... Done\n",
      "build-essential is already the newest version (12.9ubuntu3).\n",
      "0 upgraded, 0 newly installed, 0 to remove and 34 not upgraded.\n"
     ]
    }
   ],
   "source": [
    "!sudo apt-get update\n"
   ]
  },
  {
   "cell_type": "code",
   "execution_count": null,
   "metadata": {
    "colab": {
     "base_uri": "https://localhost:8080/"
    },
    "id": "-70fpGWunMQW",
    "outputId": "a62dc676-aa2f-4d9a-d15f-306cf6a382c4"
   },
   "outputs": [
    {
     "name": "stdout",
     "output_type": "stream",
     "text": [
      "nvcc: NVIDIA (R) Cuda compiler driver\n",
      "Copyright (c) 2005-2024 NVIDIA Corporation\n",
      "Built on Thu_Jun__6_02:18:23_PDT_2024\n",
      "Cuda compilation tools, release 12.5, V12.5.82\n",
      "Build cuda_12.5.r12.5/compiler.34385749_0\n"
     ]
    }
   ],
   "source": []
  },
  {
   "cell_type": "code",
   "execution_count": null,
   "metadata": {
    "colab": {
     "base_uri": "https://localhost:8080/",
     "height": 1000
    },
    "id": "JV9XIKTH1Qd8",
    "outputId": "630dbc1c-d64c-43b6-8305-12cda82f327a"
   },
   "outputs": [
    {
     "name": "stdout",
     "output_type": "stream",
     "text": [
      "Loaded: 1768135 edges\n",
      "\n",
      " Network Metrics:\n",
      "num_nodes: 81306\n",
      "num_edges: 1768135\n",
      "avg_degree: 43.49334612451725\n",
      "max_degree: 3758\n",
      "top_degree_nodes:        degree     vertex\n",
      "2        3758     813286\n",
      "67940    3384  115485051\n",
      "2104     3335   40981798\n",
      "1        3063    3359851\n",
      "2693     2840   43003845\n",
      "num_components: 1\n",
      "largest_component_size: 81306\n"
     ]
    },
    {
     "data": {
      "text/html": [
       "\n",
       "            <iframe id=\"c57914e6-b066-47d0-9010-8beaf3aee43c\" src=\"https://hub.graphistry.com/graph/graph.html?dataset=c6ae1aa9e0544e25a50d208f7bf8c0be&type=arrow&viztoken=cf0cfec2-55db-42d5-9af2-d185e4ceca45&usertag=abbca88a-pygraphistry-0.36.1&splashAfter=1746894587&info=true\"\n",
       "                    allowfullscreen=\"true\" webkitallowfullscreen=\"true\" mozallowfullscreen=\"true\"\n",
       "                    oallowfullscreen=\"true\" msallowfullscreen=\"true\"\n",
       "                    style=\"width:100%; height:500px; border: 1px solid #DDD; overflow: hidden\"\n",
       "                    \n",
       "            >\n",
       "            </iframe>\n",
       "        \n",
       "            <script>\n",
       "                try {\n",
       "                  $(\"#c57914e6-b066-47d0-9010-8beaf3aee43c\").bind('mousewheel', function(e) { e.preventDefault(); });\n",
       "                } catch (e) { console.error('exn catching scroll', e); }\n",
       "            </script>\n",
       "        "
      ],
      "text/plain": [
       "<IPython.core.display.HTML object>"
      ]
     },
     "metadata": {},
     "output_type": "display_data"
    },
    {
     "name": "stdout",
     "output_type": "stream",
     "text": [
      "→ Getting Random-k Seeds (Baseline)...\n",
      "→ Getting Top-k Degree seeds (Main Strategy)...\n",
      "→ Getting Top-k PageRank seeds (Bonus)...\n",
      "→ Getting Community-Based PageRank seeds (Bonus)...\n"
     ]
    },
    {
     "name": "stderr",
     "output_type": "stream",
     "text": [
      "/usr/local/lib/python3.11/dist-packages/cugraph/link_analysis/pagerank.py:232: UserWarning: Pagerank expects the 'store_transposed' flag to be set to 'True' for optimal performance during the graph creation\n",
      "  warnings.warn(warning_msg, UserWarning)\n"
     ]
    },
    {
     "name": "stdout",
     "output_type": "stream",
     "text": [
      "→ Simulating spread from Random seeds...\n",
      "[Benchmark] Simulation runtime: 22.1623 seconds\n",
      "→ Simulating spread from Degree seeds...\n",
      "[Benchmark] Simulation runtime: 21.3033 seconds\n",
      "→ Simulating spread from PageRank seeds...\n",
      "[Benchmark] Simulation runtime: 26.4952 seconds\n",
      "→ Simulating spread from Community PageRank seeds...\n",
      "[Benchmark] Simulation runtime: 28.3642 seconds\n",
      "\n",
      "Seeding Strategy Comparison Results\n",
      "=================================================================\n",
      "Random Seeds: [15438005, 552110505, 166231634]\n",
      "→ Nodes Infected:                81293\n",
      "→ Iterations Until Convergence: 72\n",
      "→ Simulation Runtime (sec):     22.1623\n",
      "-----------------------------------------------------------------\n",
      "Degree Centrality Seeds: [813286, 115485051, 40981798]\n",
      "→ Nodes Infected:                81277\n",
      "→ Iterations Until Convergence: 65\n",
      "→ Simulation Runtime (sec):     21.3033\n",
      "-----------------------------------------------------------------\n",
      "PageRank Seeds: [115485051, 116485573, 813286]\n",
      "→ Nodes Infected:                81292\n",
      "→ Iterations Until Convergence: 78\n",
      "→ Simulation Runtime (sec):     26.4952\n",
      "-----------------------------------------------------------------\n",
      "Community-Based PageRank Seeds: [115485051, 116485573, 813286]\n",
      "→ Nodes Infected:                81294\n",
      "→ Iterations Until Convergence: 81\n",
      "→ Simulation Runtime (sec):     28.3642\n",
      "-----------------------------------------------------------------\n"
     ]
    }
   ],
   "source": [
    "# --- Imports and Utility Functions ---\n",
    "import cudf\n",
    "import cugraph\n",
    "import graphistry\n",
    "import random\n",
    "import time\n",
    "import pandas as pd\n",
    "from IPython.display import display\n",
    "\n",
    "# 1. Load Twitter Ego Network using cuDF and cuGraph\n",
    "def load_twitter_ego_network_gpu(file_path):\n",
    "    \"\"\"Load and preprocess the Twitter Ego Network dataset.\"\"\"\n",
    "    try:\n",
    "        gdf = cudf.read_csv(\n",
    "            file_path,\n",
    "            sep=' ',\n",
    "            names=['source', 'target'],\n",
    "            dtype='int32',\n",
    "            header=None\n",
    "        )\n",
    "        # Remove duplicates and self-loops\n",
    "        gdf = gdf[gdf['source'] != gdf['target']]\n",
    "        gdf = gdf.drop_duplicates()\n",
    "        print(f\"Loaded: {len(gdf)} edges\")\n",
    "        return gdf\n",
    "    except Exception as e:\n",
    "        print(f\"GPU load error: {e}\")\n",
    "        return None\n",
    "\n",
    "# 2. Analyze network metrics with cuGraph\n",
    "def analyze_network_metrics_cugraph(gdf):\n",
    "    \"\"\"Compute basic network metrics using cuGraph.\"\"\"\n",
    "    G = cugraph.Graph(directed=True)\n",
    "    G.from_cudf_edgelist(gdf, source='source', destination='target')\n",
    "    metrics = {}\n",
    "    metrics['num_nodes'] = G.number_of_vertices()\n",
    "    metrics['num_edges'] = G.number_of_edges()\n",
    "    degree_df = G.degree()\n",
    "    metrics['avg_degree'] = float(degree_df['degree'].mean())\n",
    "    metrics['max_degree'] = int(degree_df['degree'].max())\n",
    "    top_degree = degree_df.sort_values('degree', ascending=False).head(5)\n",
    "    metrics['top_degree_nodes'] = top_degree\n",
    "    # Connected components (undirected)\n",
    "    G_undirected = cugraph.Graph(directed=False)\n",
    "    G_undirected.from_cudf_edgelist(gdf, source='source', destination='target')\n",
    "    components = cugraph.weakly_connected_components(G_undirected)\n",
    "    metrics['num_components'] = int(components['labels'].nunique())\n",
    "    metrics['largest_component_size'] = int(components['labels'].value_counts().max())\n",
    "    return metrics\n",
    "\n",
    "# 3. Visualize with Graphistry\n",
    "def visualize_with_graphistry(gdf, degree_df=None):\n",
    "    \"\"\"Visualize the network using Graphistry, optionally encoding node size by degree.\"\"\"\n",
    "    graphistry.register(api=3)\n",
    "    g = graphistry.edges(gdf, 'source', 'target')\n",
    "    if degree_df is not None:\n",
    "        min_size, max_size = 10, 100\n",
    "        degree_df = degree_df.copy()\n",
    "        degree_df['degree'] = degree_df['degree'].astype(float)\n",
    "        deg_min = degree_df['degree'].min()\n",
    "        deg_max = degree_df['degree'].max()\n",
    "        if deg_max > deg_min:\n",
    "            degree_df['size'] = degree_df['degree'].apply(\n",
    "                lambda d: min_size + (max_size - min_size) * ((d - deg_min) / (deg_max - deg_min))\n",
    "            )\n",
    "        else:\n",
    "            degree_df['size'] = (min_size + max_size) / 2\n",
    "        g = g.nodes(degree_df, 'vertex').bind(point_size='size')\n",
    "    return g.plot()\n",
    "\n",
    "# 4. Information Spread Simulation\n",
    "def simulate_information_spread_gpu(gdf, seed_nodes=None, beta=0.1, max_iterations=100):\n",
    "    \"\"\"Simulate information spread using a simple contagion model.\"\"\"\n",
    "    start_time = time.perf_counter()\n",
    "    G = cugraph.Graph(directed=True)\n",
    "    G.from_cudf_edgelist(gdf, source='source', destination='target')\n",
    "    if seed_nodes is None:\n",
    "        degree_df = G.degree()\n",
    "        seed_nodes = [int(degree_df.sort_values('degree', ascending=False).head(1)['vertex'].iloc[0])]\n",
    "    elif isinstance(seed_nodes, int):\n",
    "        seed_nodes = [seed_nodes]\n",
    "    infected = set(int(n) for n in seed_nodes)\n",
    "    events = []\n",
    "    edge_dict = gdf.to_pandas().groupby('source')['target'].apply(list).to_dict()\n",
    "    for t in range(1, max_iterations + 1):\n",
    "        new_infected = set()\n",
    "        for node in infected:\n",
    "            neighbors = edge_dict.get(int(node), [])\n",
    "            for neighbor in neighbors:\n",
    "                neighbor = int(neighbor)\n",
    "                if neighbor not in infected and random.random() < beta:\n",
    "                    new_infected.add(neighbor)\n",
    "                    events.append({'step': t, 'informer': int(node), 'informed': neighbor})\n",
    "        if not new_infected:\n",
    "            break\n",
    "        infected.update(new_infected)\n",
    "    end_time = time.perf_counter()\n",
    "    runtime_sec = end_time - start_time\n",
    "    events_df = cudf.DataFrame(events)\n",
    "    return infected, events_df, runtime_sec\n",
    "\n",
    "# 5. Seeding Strategies\n",
    "def get_top_degree_nodes(gdf, k=5):\n",
    "    G = cugraph.Graph(directed=True)\n",
    "    G.from_cudf_edgelist(gdf, source='source', destination='target')\n",
    "    degree_df = G.degree()\n",
    "    return degree_df.sort_values('degree', ascending=False).head(k)['vertex'].to_pandas().tolist()\n",
    "\n",
    "def get_top_pagerank_nodes(gdf, k=5):\n",
    "    G = cugraph.Graph(directed=True)\n",
    "    G.from_cudf_edgelist(gdf, source='source', destination='target', store_transposed=True)\n",
    "    pagerank_df = cugraph.pagerank(G)\n",
    "    return pagerank_df.sort_values('pagerank', ascending=False).head(k)['vertex'].to_pandas().tolist()\n",
    "\n",
    "def get_community_seed_nodes_gpu(gdf, k=5):\n",
    "    G_undirected = cugraph.Graph(directed=False)\n",
    "    G_undirected.from_cudf_edgelist(gdf, source='source', destination='target')\n",
    "    components = cugraph.weakly_connected_components(G_undirected)\n",
    "    G_directed = cugraph.Graph(directed=True)\n",
    "    G_directed.from_cudf_edgelist(gdf, source='source', destination='target')\n",
    "    pagerank_df = cugraph.pagerank(G_directed)\n",
    "    out_deg_df = G_directed.degree()``\n",
    "    merged = components.merge(pagerank_df, on='vertex')\n",
    "    merged = merged.merge(out_deg_df, on='vertex')\n",
    "    merged = merged[merged['degree'] > 0]\n",
    "    seeds = set()\n",
    "    component_sizes = merged['labels'].value_counts().to_pandas().sort_values(ascending=False)\n",
    "    for label in component_sizes.index:\n",
    "        sub = merged[merged['labels'] == label]\n",
    "        if not sub.empty:\n",
    "            top_node = sub.sort_values('pagerank', ascending=False)['vertex'].iloc[0]\n",
    "            seeds.add(int(top_node))\n",
    "            if len(seeds) == k:\n",
    "                break\n",
    "    if len(seeds) < k:\n",
    "        for node in merged.sort_values('pagerank', ascending=False)['vertex'].to_pandas():\n",
    "            if int(node) not in seeds:\n",
    "                seeds.add(int(node))\n",
    "                if len(seeds) == k:\n",
    "                    break\n",
    "    return list(seeds)\n",
    "\n",
    "def compare_seeding_strategies_gpu(gdf, k=5, beta=0.1, max_iterations=100):\n",
    "    \"\"\"Compare random, degree, pagerank, and community-based seeding strategies.\"\"\"\n",
    "    all_nodes = cudf.concat([gdf['source'], gdf['target']]).unique().to_pandas().tolist()\n",
    "    random_seeds = random.sample(all_nodes, k)\n",
    "    degree_seeds = get_top_degree_nodes(gdf, k)\n",
    "    pagerank_seeds = get_top_pagerank_nodes(gdf, k)\n",
    "    community_seeds = get_community_seed_nodes_gpu(gdf, k)\n",
    "    infected_rand, events_rand, runtime_rand = simulate_information_spread_gpu(gdf, random_seeds, beta, max_iterations)\n",
    "    iter_rand = int(events_rand['step'].max()) if len(events_rand) > 0 else 0\n",
    "    infected_deg, events_deg, runtime_deg = simulate_information_spread_gpu(gdf, degree_seeds, beta, max_iterations)\n",
    "    iter_deg = int(events_deg['step'].max()) if len(events_deg) > 0 else 0\n",
    "    infected_pr, events_pr, runtime_pr = simulate_information_spread_gpu(gdf, pagerank_seeds, beta, max_iterations)\n",
    "    iter_pr = int(events_pr['step'].max()) if len(events_pr) > 0 else 0\n",
    "    infected_comm, events_comm, runtime_comm = simulate_information_spread_gpu(gdf, community_seeds, beta, max_iterations)\n",
    "    iter_comm = int(events_comm['step'].max()) if len(events_comm) > 0 else 0\n",
    "    return {\n",
    "        'random_strategy': {\n",
    "            'seeds': random_seeds,\n",
    "            'infected_count': len(infected_rand),\n",
    "            'iterations': iter_rand,\n",
    "            'runtime_sec': round(float(runtime_rand), 4)\n",
    "        },\n",
    "        'degree_strategy': {\n",
    "            'seeds': degree_seeds,\n",
    "            'infected_count': len(infected_deg),\n",
    "            'iterations': iter_deg,\n",
    "            'runtime_sec': round(float(runtime_deg), 4)\n",
    "        },\n",
    "        'pagerank_strategy': {\n",
    "            'seeds': pagerank_seeds,\n",
    "            'infected_count': len(infected_pr),\n",
    "            'iterations': iter_pr,\n",
    "            'runtime_sec': round(float(runtime_pr), 4)\n",
    "        },\n",
    "        'community_strategy': {\n",
    "            'seeds': community_seeds,\n",
    "            'infected_count': len(infected_comm),\n",
    "            'iterations': iter_comm,\n",
    "            'runtime_sec': round(float(runtime_comm), 4)\n",
    "        }\n",
    "    }\n"
   ]
  },
  {
   "cell_type": "code",
   "execution_count": null,
   "metadata": {
    "colab": {
     "base_uri": "https://localhost:8080/",
     "height": 223
    },
    "id": "8SDpnwIk-5iF",
    "outputId": "fd01b617-e7be-413c-e7b7-f955ec220230"
   },
   "outputs": [
    {
     "ename": "NameError",
     "evalue": "name 'graph' is not defined",
     "output_type": "error",
     "traceback": [
      "\u001b[0;31m---------------------------------------------------------------------------\u001b[0m",
      "\u001b[0;31mNameError\u001b[0m                                 Traceback (most recent call last)",
      "\u001b[0;32m<ipython-input-12-063db3b0db3f>\u001b[0m in \u001b[0;36m<cell line: 0>\u001b[0;34m()\u001b[0m\n\u001b[1;32m      2\u001b[0m \u001b[0;34m\u001b[0m\u001b[0m\n\u001b[1;32m      3\u001b[0m \u001b[0;32mfor\u001b[0m \u001b[0mk\u001b[0m \u001b[0;32min\u001b[0m \u001b[0;34m[\u001b[0m\u001b[0;36m1\u001b[0m\u001b[0;34m,\u001b[0m \u001b[0;36m2\u001b[0m\u001b[0;34m,\u001b[0m \u001b[0;36m3\u001b[0m\u001b[0;34m,\u001b[0m \u001b[0;36m5\u001b[0m\u001b[0;34m,\u001b[0m \u001b[0;36m10\u001b[0m\u001b[0;34m,\u001b[0m \u001b[0;36m20\u001b[0m\u001b[0;34m,\u001b[0m \u001b[0;36m50\u001b[0m\u001b[0;34m,\u001b[0m \u001b[0;36m100\u001b[0m\u001b[0;34m]\u001b[0m\u001b[0;34m:\u001b[0m\u001b[0;34m\u001b[0m\u001b[0;34m\u001b[0m\u001b[0m\n\u001b[0;32m----> 4\u001b[0;31m     \u001b[0mmetrics\u001b[0m \u001b[0;34m=\u001b[0m \u001b[0mcompare_seeding_strategies_gpu\u001b[0m\u001b[0;34m(\u001b[0m\u001b[0mgraph\u001b[0m\u001b[0;34m,\u001b[0m \u001b[0mk\u001b[0m\u001b[0;34m,\u001b[0m \u001b[0mβ\u001b[0m\u001b[0;34m=\u001b[0m\u001b[0;36m0.1\u001b[0m\u001b[0;34m)\u001b[0m\u001b[0;34m\u001b[0m\u001b[0;34m\u001b[0m\u001b[0m\n\u001b[0m\u001b[1;32m      5\u001b[0m     \u001b[0;32mfor\u001b[0m \u001b[0mstrategy\u001b[0m\u001b[0;34m,\u001b[0m \u001b[0mdata\u001b[0m \u001b[0;32min\u001b[0m \u001b[0mmetrics\u001b[0m\u001b[0;34m.\u001b[0m\u001b[0mitems\u001b[0m\u001b[0;34m(\u001b[0m\u001b[0;34m)\u001b[0m\u001b[0;34m:\u001b[0m\u001b[0;34m\u001b[0m\u001b[0;34m\u001b[0m\u001b[0m\n\u001b[1;32m      6\u001b[0m         results.append({\n",
      "\u001b[0;31mNameError\u001b[0m: name 'graph' is not defined"
     ]
    }
   ],
   "source": [
    "# --- Experiment: Compare Seeding Strategies for Different k ---\n",
    "import seaborn as sns\n",
    "import matplotlib.pyplot as plt\n",
    "\n",
    "results = []\n",
    "k_values = [1, 2, 3, 5, 10, 20, 50, 100]\n",
    "\n",
    "for k in k_values:\n",
    "    metrics = compare_seeding_strategies_gpu(gdf, k, beta=0.1)\n",
    "    for strategy, data in metrics.items():\n",
    "        results.append({\n",
    "            'strategy': strategy,\n",
    "            'k': k,\n",
    "            'infected_nodes': data['infected_count'],\n",
    "            'iterations': data['iterations'],\n",
    "            'time': data['runtime_sec']\n",
    "        })\n",
    "\n",
    "df_results = pd.DataFrame(results)\n",
    "\n",
    "# Plot: Infected Nodes vs Seed Count\n",
    "sns.lineplot(data=df_results, x='k', y='infected_nodes', hue='strategy', marker='o')\n",
    "plt.title(\"Infected Nodes vs Seed Count (k)\")\n",
    "plt.show()\n",
    "\n",
    "# Plot: Iterations vs Seed Count\n",
    "sns.lineplot(data=df_results, x='k', y='iterations', hue='strategy', marker='o')\n",
    "plt.title(\"Iterations vs Seed Count (k)\")\n",
    "plt.show()\n",
    "\n",
    "# Plot: Simulation Time vs Seed Count\n",
    "sns.lineplot(data=df_results, x='k', y='time', hue='strategy', marker='o')\n",
    "plt.title(\"Simulation Time vs Seed Count (k)\")\n",
    "plt.show()\n"
   ]
  },
  {
   "cell_type": "code",
   "execution_count": null,
   "metadata": {
    "id": "j3j8MPK27uls"
   },
   "outputs": [],
   "source": [
    "import matplotlib.pyplot as plt\n",
    "import seaborn as sns\n",
    "\n",
    "def generate_spread_analysis_plots(df_results, graph):\n",
    "    \"\"\"\n",
    "    Generate multiple plots to analyze and compare seeding strategies.\n",
    "\n",
    "    Parameters:\n",
    "        df_results (pd.DataFrame): Contains columns - strategy, k, infected_nodes, iterations, time\n",
    "        graph (nx.Graph or cugraph.Graph): The graph used for simulations, used to compute % infection\n",
    "\n",
    "    Returns:\n",
    "        None (displays plots)\n",
    "    \"\"\"\n",
    "    sns.set(style=\"whitegrid\")\n",
    "\n",
    "    # Derived metrics\n",
    "    df_results = df_results.copy()\n",
    "    df_results['infected_per_iter'] = df_results['infected_nodes'] / df_results['iterations']\n",
    "    df_results['time_per_iter'] = df_results['time'] / df_results['iterations']\n",
    "    df_results['infected_pct'] = df_results['infected_nodes'] / graph.number_of_nodes()\n",
    "    df_results['infected_per_sec'] = df_results['infected_nodes'] / df_results['time']\n",
    "\n",
    "    # 1. Infected Nodes vs k\n",
    "    plt.figure(figsize=(8, 5))\n",
    "    sns.lineplot(data=df_results, x='k', y='infected_nodes', hue='strategy', marker='o')\n",
    "    plt.title(\"Infected Nodes vs k\")\n",
    "    plt.ylabel(\"Total Infected Nodes\")\n",
    "    plt.xlabel(\"Seed Count (k)\")\n",
    "    plt.tight_layout()\n",
    "    plt.show()\n",
    "\n",
    "    # 2. Infection Efficiency (Infected per Iteration)\n",
    "    plt.figure(figsize=(8, 5))\n",
    "    sns.lineplot(data=df_results, x='k', y='infected_per_iter', hue='strategy', marker='o')\n",
    "    plt.title(\"Infection Efficiency (Infected per Iteration)\")\n",
    "    plt.ylabel(\"Infected / Iteration\")\n",
    "    plt.xlabel(\"Seed Count (k)\")\n",
    "    plt.tight_layout()\n",
    "    plt.show()\n",
    "\n",
    "    # 3. Time per Iteration\n",
    "    plt.figure(figsize=(8, 5))\n",
    "    sns.lineplot(data=df_results, x='k', y='time_per_iter', hue='strategy', marker='o')\n",
    "    plt.title(\"Time per Iteration\")\n",
    "    plt.ylabel(\"Time / Iteration (s)\")\n",
    "    plt.xlabel(\"Seed Count (k)\")\n",
    "    plt.tight_layout()\n",
    "    plt.show()\n",
    "\n",
    "    # 4. Spread Effectiveness vs Runtime\n",
    "    plt.figure(figsize=(8, 5))\n",
    "    sns.scatterplot(data=df_results, x='time', y='infected_nodes', hue='strategy', style='k')\n",
    "    plt.title(\"Spread Effectiveness vs Runtime\")\n",
    "    plt.xlabel(\"Simulation Time (s)\")\n",
    "    plt.ylabel(\"Infected Nodes\")\n",
    "    plt.tight_layout()\n",
    "    plt.show()\n",
    "\n",
    "    # 5. Percentage of Graph Infected\n",
    "    plt.figure(figsize=(8, 5))\n",
    "    sns.lineplot(data=df_results, x='k', y='infected_pct', hue='strategy', marker='o')\n",
    "    plt.title(\"Percentage of Graph Infected\")\n",
    "    plt.ylabel(\"Infected / Total Nodes\")\n",
    "    plt.xlabel(\"Seed Count (k)\")\n",
    "    plt.tight_layout()\n",
    "    plt.show()\n",
    "\n",
    "    # 6. Infected per Second\n",
    "    plt.figure(figsize=(8, 5))\n",
    "    sns.lineplot(data=df_results, x='k', y='infected_per_sec', hue='strategy', marker='o')\n",
    "    plt.title(\"Infected Nodes per Second\")\n",
    "    plt.ylabel(\"Infected / Second\")\n",
    "    plt.xlabel(\"Seed Count (k)\")\n",
    "    plt.tight_layout()\n",
    "    plt.show()\n"
   ]
  },
  {
   "cell_type": "markdown",
   "metadata": {},
   "source": [
    "## Instructions for Replication and Citation\n",
    "\n",
    "**To replicate this notebook:**\n",
    "1. Ensure you have an NVIDIA GPU and the required drivers/CUDA installed.\n",
    "2. Install dependencies using the provided pip cell.\n",
    "3. Download the dataset (`twitter_combined.txt`) and place it in the same directory as this notebook.\n",
    "4. Set your Graphistry API key as an environment variable or directly in the notebook.\n",
    "5. Run all cells in order.\n",
    "\n",
    "**Citation:**\n",
    "If you use this notebook or code in your work, please cite the original dataset and acknowledge the use of RAPIDS cuGraph and Graphistry."
   ]
  }
 ],
 "metadata": {
  "accelerator": "GPU",
  "colab": {
   "gpuType": "T4",
   "provenance": []
  },
  "kernelspec": {
   "display_name": ".virtualenv",
   "language": "python",
   "name": "python3"
  },
  "language_info": {
   "name": "python",
   "version": "3.13.1"
  }
 },
 "nbformat": 4,
 "nbformat_minor": 0
}
